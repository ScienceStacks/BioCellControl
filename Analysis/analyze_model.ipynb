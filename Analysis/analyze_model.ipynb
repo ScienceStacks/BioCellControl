{
 "cells": [
  {
   "cell_type": "code",
   "execution_count": 1,
   "metadata": {
    "collapsed": true
   },
   "outputs": [],
   "source": [
    "%matplotlib inline"
   ]
  },
  {
   "cell_type": "markdown",
   "metadata": {},
   "source": []
  },
  {
   "cell_type": "code",
   "execution_count": 2,
   "metadata": {
    "collapsed": false
   },
   "outputs": [
    {
     "ename": "SyntaxError",
     "evalue": "invalid syntax (<ipython-input-2-13dcbd54b2f6>, line 1)",
     "output_type": "error",
     "traceback": [
      "\u001b[0;36m  File \u001b[0;32m\"<ipython-input-2-13dcbd54b2f6>\"\u001b[0;36m, line \u001b[0;32m1\u001b[0m\n\u001b[0;31m    J0: $x0 -> L; k0*x0\u001b[0m\n\u001b[0m      ^\u001b[0m\n\u001b[0;31mSyntaxError\u001b[0m\u001b[0;31m:\u001b[0m invalid syntax\n"
     ]
    }
   ],
   "source": [
    "J0: $x0 -> L; k0*x0\n",
    "# REACTIONS from Spiro, Table 3\n",
    "# Methylation\n",
    "#J1_{me}{p}R: T{me}{p}R -> T{me+1}{p} + R; k1c*T{me}{p}R\n",
    "J1_2pR: T2pR -> T3p + R; k1c*T2pR\n",
    "J1_3pR: T3pR -> T4p + R; k1c*T3pR\n",
    "J1_2R: T2R -> T3 + R; k1c*T2R\n",
    "J1_3R: T3R -> T4 + R; k1c*T3R\n"
   ]
  },
  {
   "cell_type": "code",
   "execution_count": null,
   "metadata": {
    "collapsed": false
   },
   "outputs": [],
   "source": [
    "import tellurium as te\n",
    "\n",
    "model = \"\"\"\n",
    "model test\n",
    "    compartment C1;\n",
    "    C1 = 1.0;\n",
    "    species S1, S2;\n",
    "\n",
    "    S1 = 10.0;\n",
    "    S2 = 0.0;\n",
    "    S1 in C1; S2 in C1;\n",
    "    J1: S1 -> S2; k1*S1;\n",
    "\n",
    "    k1 = 1.0;\n",
    "end\n",
    "\"\"\"\n",
    "# load models\n",
    "r = te.loada(model)\n",
    "res1 = r.simulate(start=0, end=10, points=6)\n",
    "print res1"
   ]
  },
  {
   "cell_type": "code",
   "execution_count": null,
   "metadata": {
    "collapsed": false
   },
   "outputs": [],
   "source": [
    "import tellurium as te\n",
    "\n",
    "myfile = open(\"chemotaxis.mdl\", \"r\")\n",
    "contents = myfile.read()\n",
    "# load models\n",
    "r = te.loada(contents)\n",
    "res1 = r.simulate(start=0, end=1000)\n",
    "print res1"
   ]
  }
 ],
 "metadata": {
  "kernelspec": {
   "display_name": "Python 2",
   "language": "python",
   "name": "python2"
  },
  "language_info": {
   "codemirror_mode": {
    "name": "ipython",
    "version": 2
   },
   "file_extension": ".py",
   "mimetype": "text/x-python",
   "name": "python",
   "nbconvert_exporter": "python",
   "pygments_lexer": "ipython2",
   "version": "2.7.11"
  }
 },
 "nbformat": 4,
 "nbformat_minor": 0
}
