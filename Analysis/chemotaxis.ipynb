{
 "cells": [
  {
   "cell_type": "markdown",
   "metadata": {},
   "source": [
    "## Backgound\n",
    "Analysis of the Chemotaxis model described by Spiro et al., PNAS, 1999.\n",
    "The model describes the receptor state along 3 dimensions:\n",
    "  - bound to a ligand\n",
    "  - phosphorylated\n",
    "  - degree of methylation (considers 2, 3, 4)\n",
    "  \n",
    "Key variables are:\n",
    "   - Y, Yp - concentrations of CheY and its phosphorylated form\n",
    "   - B, Bp - concentrations of CheB and its phosphorylated form\n",
    "   - L - ligand concentration\n",
    "   - f<state>, t<state> - \"f\" indicates the fraction of the concentration in the state, \"t\" is the total\n",
    "     <state> is a 3 character string, such as \"TT2\". T/F indicates the boolean value; the last is an integer."
   ]
  },
  {
   "cell_type": "markdown",
   "metadata": {},
   "source": [
    "## Summary\n",
    "\n",
    "Initially, we consider a step response. Later, we repeat the same analysis for a ramp. These correspond to the analyses done by Spiro.\n",
    "\n",
    "Most of the analysis is done using fractional concentrations (variables that begin with \"f\"). We begin by justifying this.\n",
    "\n",
    "Next, we analyze the effects of a step response. \"Perfect adaptation\" is possible if the step is small enough."
   ]
  },
  {
   "cell_type": "markdown",
   "metadata": {},
   "source": [
    "## Software Dependencies\n",
    "The model and various utility functions are in the python modules chemotaxis_model and data_plotter."
   ]
  },
  {
   "cell_type": "code",
   "execution_count": 1,
   "metadata": {
    "collapsed": false
   },
   "outputs": [
    {
     "name": "stderr",
     "output_type": "stream",
     "text": [
      "/home/ubuntu/miniconda2/lib/python2.7/site-packages/tellurium/notebooks/__init__.py:16: UserWarning: Notebook tools are not imported, due to missing dependencies.\n",
      "  warnings.warn(\"Notebook tools are not imported, due to missing dependencies.\")\n"
     ]
    }
   ],
   "source": [
    "import numpy as np\n",
    "%matplotlib inline\n",
    "import matplotlib.pyplot as plt\n",
    "import tellurium as te\n",
    "from chemotaxis_model import ChemotaxisModel, StateAggregationFactory\n",
    "from data_plotter import DataPlotter\n",
    "model = ChemotaxisModel()"
   ]
  },
  {
   "cell_type": "markdown",
   "metadata": {},
   "source": [
    "## Antimony Model"
   ]
  },
  {
   "cell_type": "code",
   "execution_count": 2,
   "metadata": {
    "collapsed": false
   },
   "outputs": [
    {
     "name": "stdout",
     "output_type": "stream",
     "text": [
      "\n",
      "        J0: $x0 -> L; k0*x0\n",
      "        # REACTIONS from Table 3\n",
      "        # Methylation\n",
      "        J1: T2R -> T3 + R; k1c*T2R\n",
      "        J2: T3R -> T4 + R; k2c*T3R\n",
      "        J3: LT2R -> LT3 + R; k3c*LT2R\n",
      "        J4: LT3R -> LT4 + R; k4c*LT3R\n",
      "        #   Details of Tn + R <-> TnR\n",
      "        J5: T2R -> T2 + R; k1a*T2R\n",
      "        J6: T2 + R -> T2R; k1b*T2*R\n",
      "        J7: T3R -> T3 + R; k2a*T3R\n",
      "        J8: T3 + R -> T3R; k2b*T3*R\n",
      "        #J9: T4R -> T4 + R; k3a*T4R\n",
      "        #J10: T4 + R -> T4R; k3b*T4*R\n",
      "        #   Details of LTn + R <-> LTnR (not in Spiro)\n",
      "        J11: LT2R -> LT2 + R; k1a*LT2R\n",
      "        J12: LT2 + R -> LT2R; k1b*LT2*R\n",
      "        J13: LT3R -> LT3 + R; k2a*LT3R\n",
      "        J14: LT3 + R -> LT3R; k2b*LT3*R\n",
      "        #J15: LT4R -> LT4 + R; k3a*LT4R\n",
      "        #J16: LT4 + R -> LT4R; k3b*LT4*R\n",
      "        # Demethylation reactions\n",
      "        J17: T3 + Bp -> T2 + Bp; k_1*T3*Bp\n",
      "        J18: T4 + Bp -> T3 + Bp; k_2*T4*Bp  \n",
      "        J19: LT3 + Bp -> LT2 + Bp; k_3*LT3*Bp\n",
      "        J20: LT4 + Bp -> LT3 + Bp; k_4*LT4*Bp\n",
      "        # Ligand binding gives details to L + T -> LT, LT -> L + T\n",
      "        J21: L + T2 -> LT2; k5*T2*L\n",
      "        J22: L + T3 -> LT3; k5*T3*L\n",
      "        J23: L + T4 -> LT4; k5*T4*L\n",
      "        J24: LT2 -> T2 + L; k_5*LT2\n",
      "        J25: LT3 -> T3 + L; k_5*LT3\n",
      "        J26: LT4 -> T4 + L; k_5*LT4\n",
      "        # Autophosphorylation reactions\n",
      "        J27: T2 -> T2p; k8*T2\n",
      "        J28: T3 -> T3p; k9*T3\n",
      "        J29: T4 -> T4p; k10*T4\n",
      "        J30: LT2 -> LT2p; k11*LT2\n",
      "        J31: LT3 -> LT3p; k12*LT3\n",
      "        J32: LT4 -> LT4p; k13*LT4\n",
      "        # B phosphorylations\n",
      "        J33:T2p + B -> T2 + Bp; kb*T2p*B\n",
      "        J34:T3p + B -> T3 + Bp; kb*T3p*B\n",
      "        J35:T4p + B -> T4 + Bp; kb*T4p*B\n",
      "        J36:LT2p + B -> LT2 + Bp; kb*LT2p*B\n",
      "        J37:LT3p + B -> LT3 + Bp; kb*LT3p*B\n",
      "        J38:LT4p + B -> LT4 + Bp; kb*LT4p*B\n",
      "        # Y phosphorylations\n",
      "        J39:T2p + Y -> T2 + Yp; ky*T2p*Y\n",
      "        J40:T3p + Y -> T3 + Yp; ky*T3p*Y\n",
      "        J41:T4p + Y -> T4 + Yp; ky*T4p*Y\n",
      "        J42:LT2p + Y -> LT2 + Yp; ky*LT2p*Y\n",
      "        J43:LT3p + Y -> LT3 + Yp; ky*LT3p*Y\n",
      "        J44:LT4p + Y -> LT4 + Yp; ky*LT4p*Y\n",
      "        # B & Y dephosphorylations\n",
      "        J45: Bp -> B; k_b*Bp\n",
      "        J46: Yp + Z -> Y + Z; k_y*Yp*Z    \n",
      "        # CONSTANTS from Table 3, except k1a (which is noted above).\n",
      "        k0 = 0\n",
      "        ktuning = 0.1\n",
      "        k1b = ktuning*k5\n",
      "        k1a = (1.7e-6)/k1b\n",
      "        k2a = k1a\n",
      "        k2b = k1b\n",
      "        k3a = k1a\n",
      "        k3b = k1b\n",
      "        k1c = 0.17\n",
      "        k2c = 0.1*k1c\n",
      "        k3c = 30*k1c\n",
      "        k4c = k3c\n",
      "        k5  = 7e7\n",
      "        k_5 = 70\n",
      "        k_1 = 4e5\n",
      "        k_2 = 3e4\n",
      "        k_3 = k_1\n",
      "        k_4 = k_2\n",
      "        k8 = 15\n",
      "        k9 = 3*k8\n",
      "        k10 = 3.2*k8\n",
      "        k11 = 0\n",
      "        k12 = 1.1*k8\n",
      "        k13 = 0.72*k10\n",
      "        kb = 8e5\n",
      "        ky = 3e7\n",
      "        k_b = 0.35\n",
      "        k_y = 5e5\n",
      "        # INITIAL VALUES from Table 2\n",
      "        B = 1.7e-6\n",
      "        Bp = 0\n",
      "        LT2 = 0\n",
      "        LT2R = 0\n",
      "        LT3 = 0\n",
      "        LT3R = 0\n",
      "        LT4 = 0\n",
      "        T2p = 0\n",
      "        T3p = 0\n",
      "        T4p = 0\n",
      "        LT2p = 0\n",
      "        LT3p = 0\n",
      "        LT4p = 0\n",
      "        R = 0.3e-6\n",
      "        T2 = 8e-6\n",
      "        T3 = 0\n",
      "        T4 = 0\n",
      "        T2R = 0\n",
      "        T3R = 0\n",
      "        x0 = 1\n",
      "        Y = 20e-6\n",
      "        Yp = 0\n",
      "        Z = 40e-6\n",
      "  \n"
     ]
    }
   ],
   "source": [
    "print model.getModel()"
   ]
  },
  {
   "cell_type": "markdown",
   "metadata": {},
   "source": [
    "## Common Codes Used in this Analysis"
   ]
  },
  {
   "cell_type": "code",
   "execution_count": 18,
   "metadata": {
    "collapsed": true
   },
   "outputs": [],
   "source": [
    "# Runs simulation and creates global variables used in analysis\n",
    "def sim(elements=None):\n",
    "    \"\"\"\n",
    "    Runs the simulation and creates global names\n",
    "    Input: global variable model - the ChemotaxisModel\n",
    "        elements - elements to add to the model\n",
    "    Output: global variables - plotter, result\n",
    "    \"\"\"\n",
    "    if elements is None:\n",
    "      elements = []\n",
    "    global plotter, result\n",
    "    model = ChemotaxisModel()\n",
    "    for element in elements:\n",
    "      model.appendToModel(element)\n",
    "    model.initialize()\n",
    "    result = model.run(end=300)\n",
    "    plotter = DataPlotter(model)\n"
   ]
  },
  {
   "cell_type": "markdown",
   "metadata": {},
   "source": [
    "## Justification for Fractional Concentrations"
   ]
  },
  {
   "cell_type": "code",
   "execution_count": 20,
   "metadata": {
    "collapsed": false
   },
   "outputs": [
    {
     "data": {
      "image/png": "[encoded data removed]",
      "text/plain": [
       "<matplotlib.figure.Figure at 0x7f8d9db595d0>"
      ]
     },
     "metadata": {},
     "output_type": "display_data"
    }
   ],
   "source": [
    "# Analysis for L = 0\n",
    "sim()\n",
    "plotter.lines([\"Yp\", \"fYp\", \"f_T_\"])"
   ]
  },
  {
   "cell_type": "markdown",
   "metadata": {},
   "source": [
    "Observations\n",
    "- Although the scales differ, the shape of Yp and fYp are identical.\n",
    "- The Yp response corresponds to the shape of the fraction of methylated receptor"
   ]
  },
  {
   "cell_type": "code",
   "execution_count": 21,
   "metadata": {
    "collapsed": false
   },
   "outputs": [
    {
     "data": {
      "image/png": "[encoded data removed]",
      "text/plain": [
       "<matplotlib.figure.Figure at 0x7f8da0c69850>"
      ]
     },
     "metadata": {},
     "output_type": "display_data"
    }
   ],
   "source": [
    "# Step Analysis for a change at 100\n",
    "sim(elements=[\"at (time > 100): L = 11e-6\"])\n",
    "plotter.lines([\"Yp\", \"fYp\", \"f_T_\"])"
   ]
  },
  {
   "cell_type": "markdown",
   "metadata": {},
   "source": [
    "Observations\n",
    "\n",
    "- Once again, it suffices to look at the fraction of methylated receptors."
   ]
  },
  {
   "cell_type": "code",
   "execution_count": null,
   "metadata": {
    "collapsed": false
   },
   "outputs": [],
   "source": [
    "# Step Analysis\n",
    "model.appendToModel('''at (time > 100): L = 11e-6''')\n",
    "sim()\n",
    "plotter.lines([\"Yp\", \"fYp\", \"fTT3\"])"
   ]
  },
  {
   "cell_type": "code",
   "execution_count": null,
   "metadata": {
    "collapsed": false
   },
   "outputs": [],
   "source": [
    "# Step Analysis\n",
    "\n",
    "\n",
    "model = ChemotaxisModel()\n",
    "model.appendToModel('''at (time > 100): L = 11e-6''')\n",
    "sim()\n",
    "\n",
    "P = states.sumStates(lambda l,p,m: p)\n",
    "plt.subplot(3,1,1)\n",
    "plt.xlabel(\"time\")\n",
    "plt.ylabel(\"Yp\")\n",
    "frame = plt.gca()\n",
    "frame.axes.get_xaxis().set_visible(False)\n",
    "plt.plot( time, result['[Yp]'])\n",
    "plt.subplot(3,1,2)\n",
    "frame = plt.gca()\n",
    "frame.axes.get_xaxis().set_visible(False)\n",
    "plt.xlabel(\"time\")\n",
    "plt.ylabel(\"L\")\n",
    "plt.plot(time, result['[L]'])\n",
    "plt.subplot(3,1,3)\n",
    "plt.xlabel(\"time\")\n",
    "plt.axis([0, 200, 0, 1.01])\n",
    "#plt.plot(time, frYp, 'b', time, frLTp, 'g')\n",
    "plt.ylabel(\"fLp\")\n",
    "plt.plot(time, f.v(\"fTT_\"))"
   ]
  },
  {
   "cell_type": "code",
   "execution_count": null,
   "metadata": {
    "collapsed": false
   },
   "outputs": [],
   "source": [
    "m = 4\n",
    "n = 1\n",
    "plt.subplot(m,1,n); n += 1\n",
    "plt.plot(time, result['[Yp]'], 'g', time, result['[L]'], 'r')\n",
    "plt.subplot(m,1,n); n+= 1\n",
    "plt.plot(time,frLTp, 'r', time, frp, 'g', time, frTp, 'b')\n",
    "plt.subplot(m,1,n); n += 1\n",
    "plt.plot(time, frLT3p, 'g', time, frLT4p, 'b')\n",
    "plt.subplot(m, 1, n)\n",
    "plt.plot(time, frLT2, 'r')"
   ]
  },
  {
   "cell_type": "markdown",
   "metadata": {},
   "source": [
    "Loosing some of the receptors as indicated in the above plot."
   ]
  },
  {
   "cell_type": "markdown",
   "metadata": {},
   "source": [
    "Ramp analysis"
   ]
  },
  {
   "cell_type": "code",
   "execution_count": null,
   "metadata": {
    "collapsed": false,
    "scrolled": true
   },
   "outputs": [],
   "source": [
    "%matplotlib inline\n",
    "import matplotlib.pyplot as plt\n",
    "import tellurium as te\n",
    "from chemotaxis_model import ChemotaxisModel\n",
    "\n",
    "model = ChemotaxisModel()\n",
    "#model.appendToModel('''at (time > 200): L = 0.11e-6''')\n",
    "model.appendToModel('''at (time > 101): k0 = 0.011e-6''')\n",
    "model.appendToModel('''at (time > 200): k0 = 0, L=0.11e-6''')\n",
    "sim()\n",
    "\n",
    "P = states.sumStates(lambda l,p,m: p)\n",
    "plt.plot( time, result['[Yp]'], 'b', time, P, 'r', time, result['[L]'], 'g')\n",
    "#rr.plot(result, xlim=[0, end_time])"
   ]
  },
  {
   "cell_type": "markdown",
   "metadata": {},
   "source": [
    "Questions:\n",
    "1. Why doesn't Yp return to its pre-ramp state?\n",
    "2. \n",
    "Observations:\n",
    "1. P drops to 0 at time"
   ]
  },
  {
   "cell_type": "code",
   "execution_count": null,
   "metadata": {
    "collapsed": false
   },
   "outputs": [],
   "source": [
    "frp = states.frcStates(lambda l,p,m: p)\n",
    "frLTp = states.frcStates(lambda l,p,m: l and p)\n",
    "plt.subplot(4,1,1)\n",
    "plt.plot( time, frp, 'b', time, frTp, 'r', time, frLTp, 'g')\n",
    "plt.subplot(4,1,3)\n",
    "frL = states.frcStates(lambda l,p,m: l)\n",
    "plt.plot( time, frL, 'r', time, frLT4, 'g', time, frLT4p, 'b')"
   ]
  },
  {
   "cell_type": "code",
   "execution_count": null,
   "metadata": {
    "collapsed": false
   },
   "outputs": [],
   "source": [
    "frLTp"
   ]
  },
  {
   "cell_type": "markdown",
   "metadata": {},
   "source": [
    "Expected to see an impulse response in response to the step input. But see a step response in Yp."
   ]
  },
  {
   "cell_type": "code",
   "execution_count": null,
   "metadata": {
    "collapsed": false
   },
   "outputs": [],
   "source": [
    "Ids = ['J11', 'J12', 'J3']\n",
    "{id: model.getReactionRateForId(id) for id in Ids}"
   ]
  }
 ],
 "metadata": {
  "kernelspec": {
   "display_name": "Python 2",
   "language": "python",
   "name": "python2"
  },
  "language_info": {
   "codemirror_mode": {
    "name": "ipython",
    "version": 2
   },
   "file_extension": ".py",
   "mimetype": "text/x-python",
   "name": "python",
   "nbconvert_exporter": "python",
   "pygments_lexer": "ipython2",
   "version": "2.7.11"
  }
 },
 "nbformat": 4,
 "nbformat_minor": 0
}
