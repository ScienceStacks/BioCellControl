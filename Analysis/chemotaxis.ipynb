{
 "cells": [
  {
   "cell_type": "code",
   "execution_count": 6,
   "metadata": {
    "collapsed": false
   },
   "outputs": [
    {
     "data": {
      "image/png": "[encoded data removed]",
      "text/plain": [
       "<matplotlib.figure.Figure at 0x7fce97ce1f10>"
      ]
     },
     "metadata": {},
     "output_type": "display_data"
    },
    {
     "data": {
      "text/plain": [
       "[<matplotlib.lines.Line2D at 0x7fce97eddc90>]"
      ]
     },
     "execution_count": 6,
     "metadata": {},
     "output_type": "execute_result"
    }
   ],
   "source": [
    "%matplotlib inline\n",
    "import tellurium as te\n",
    "\n",
    "rr = te.loada('''\n",
    "    model example0\n",
    "    # A comment\n",
    "      S1 -> S2; k1*S1\n",
    "      S1 = 10\n",
    "      S2 = 2\n",
    "      k1 = k2\n",
    "      k2 = 0.3\n",
    "    end\n",
    "''')\n",
    "\n",
    "result = rr.simulate(0, 40, 500) \n",
    "te.plotArray(result)"
   ]
  },
  {
   "cell_type": "markdown",
   "metadata": {},
   "source": [
    "Model assumptions:\n",
    "1. Ln, LTn have the same kinetic constants for dephosphorylation\n",
    "2. Start with all T as T2\n",
    "3. Estimated k1a, k1b\n",
    "4. Dephosphorylation occurs at the same rate for bound and unbound receptors\n",
    "5. The system begins with all Tar in state T2 (doubly methylated)\n",
    "6. Demethylation of Yp does not consider Z (as per Spiro).\n",
    "7. k1a is estimated based on the rates for k_on for the bimolecular reaction L + T -> LT, k_on = k5 = 7*10e7.\n",
    "   We use the constant ktuning to adjust the fraction of k5 that's used"
   ]
  },
  {
   "cell_type": "code",
   "execution_count": 8,
   "metadata": {
    "collapsed": false
   },
   "outputs": [
    {
     "data": {
      "image/png": "[encoded data removed]",
      "text/plain": [
       "<matplotlib.figure.Figure at 0x7fce97e34d50>"
      ]
     },
     "metadata": {},
     "output_type": "display_data"
    },
    {
     "data": {
      "text/plain": [
       "[<matplotlib.lines.Line2D at 0x7fce97b44590>]"
      ]
     },
     "execution_count": 8,
     "metadata": {},
     "output_type": "execute_result"
    }
   ],
   "source": [
    "%matplotlib inline\n",
    "import tellurium as te\n",
    "\n",
    "rr = te.loada('''\n",
    "    # This model is from Spiral et al., PNAS, 1997\n",
    "    model chemotaxis\n",
    "      # REACTIONS from Table 3\n",
    "      # Methylation\n",
    "      T2R -> T3 + R; k1c*T2R\n",
    "      T3R -> T4 + R; k2c*T3R\n",
    "      LT2R -> LT3 + R; k3c*LT2R\n",
    "      LT3R -> LT4 + R; k4c*LT3R\n",
    "      #   Details of Tn + R <-> TnR\n",
    "      T2R -> T2 + R; k1a*T2R\n",
    "      T2 + R -> T2R; k1b*T2*R\n",
    "      T3R -> T3 + R; k2a*T3R\n",
    "      T3 + R -> T3R; k2b*T3*R\n",
    "      T4R -> T4 + R; k3a*T4R\n",
    "      T4 + R -> T4R; k3b*T4*R\n",
    "      # Demethylation reactions\n",
    "      T3 + Bp -> T2 + Bp; k_1*T3*Bp\n",
    "      T4 + Bp -> T3 + Bp; k_2*T4*Bp  \n",
    "      LT3 + Bp -> LT2 + Bp; k_3*T3*Bp\n",
    "      LT4 + Bp -> LT3 + Bp; k_4*T4*Bp\n",
    "      # Ligand binding gives details to L + T -> LT, LT -> L + T\n",
    "      L + T2 -> LT2; k5*T2*L\n",
    "      L + T3 -> LT3; k5*T3*L\n",
    "      L + T4 -> LT4; k5*T4*L\n",
    "      LT2 -> T2 + L; k_5*LT2\n",
    "      LT3 -> T3 + L; k_5*LT3\n",
    "      LT4 -> T4 + L; k_5*LT4\n",
    "      # Autophosphorylation reactions\n",
    "      T2 -> T2p; k8*T2\n",
    "      T3 -> T3p; k9*T2\n",
    "      T4 -> T4p; k10*T2\n",
    "      LT2 -> LT2p; k11*LT2\n",
    "      LT3 -> LT3p; k12*LT3\n",
    "      LT4 -> LT4p; k13*LT4\n",
    "      # B phosphorylations\n",
    "      T2p + B -> T2 + Bp; kb*T2p*B\n",
    "      T3p + B -> T3 + Bp; kb*T3p*B\n",
    "      T4p + B -> T4 + Bp; kb*T4p*B\n",
    "      LT2p + B -> LT2 + Bp; kb*LT2p*B\n",
    "      LT3p + B -> LT3 + Bp; kb*LT3p*B\n",
    "      LT4p + B -> LT4 + Bp; kb*LT4p*B\n",
    "      # Y phosphorylations\n",
    "      T2p + Y -> T2 + Yp; ky*T2p*Y\n",
    "      T3p + Y -> T3 + Yp; ky*T3p*Y\n",
    "      T4p + Y -> T4 + Yp; ky*T4p*Y\n",
    "      TL2p + Y -> LT2 + Yp; ky*LT2p*Y\n",
    "      LT3p + Y -> LT3 + Yp; ky*LT3p*Y\n",
    "      LT4p + Y -> LT4 + Yp; ky*LT4p*Y\n",
    "      # B & Y dephosphorylations\n",
    "      Bp -> B; k_b*Bp\n",
    "      Yp + Z -> Y + Z; k_y*Yp*Z    \n",
    "      # CONSTANTS from Table 3, except k1a (which is noted above).\n",
    "      k1a = 10*10e6\n",
    "      ktuning = 0.9\n",
    "      k1b = ktuning*k5\n",
    "      k2a = k1a\n",
    "      k2b = k1b\n",
    "      k3a = k1a\n",
    "      k3b = k1b\n",
    "      k1c = 0.17\n",
    "      k2c = 0.1*k1c\n",
    "      k3c = 30*k2c\n",
    "      k4c = k3c\n",
    "      k5  = 7*10e7\n",
    "      k_5 = 70\n",
    "      k_1 = 4*10e5\n",
    "      k_2 = 3*10e4\n",
    "      k_3 = k_1\n",
    "      k_4 = k_2\n",
    "      k8 = 15\n",
    "      k9 = 3*k8\n",
    "      k10 = 3.2*k8\n",
    "      k11 = 0\n",
    "      k12 = 1.1*k8\n",
    "      k13 = 0.72*k10\n",
    "      kb = 8*10e5\n",
    "      ky = 3*10e7\n",
    "      k_b = 0.35\n",
    "      k_y = 5*10e5\n",
    "      # INITIAL VALUES from Table 2\n",
    "      T2 = 8*10e-6\n",
    "      R = 0.3*10e-6\n",
    "      B = 1.7*10e-6\n",
    "      Y = 20*10e-6\n",
    "      T2R = 0\n",
    "      T3R = 0\n",
    "      LT2R = 0\n",
    "      LT3R = 0\n",
    "      L = 0\n",
    "      T2 = 0\n",
    "      T3 = 0\n",
    "      T4 = 0\n",
    "      LT2 = 0\n",
    "      LT3 = 0\n",
    "      LT4 = 0\n",
    "      T2p = 0\n",
    "      T3p = 0\n",
    "      T4p = 0\n",
    "      LT2p = 0\n",
    "      LT3p = 0\n",
    "      LT4p = 0\n",
    "      Yp = 0\n",
    "      Bp = 0\n",
    "    end\n",
    "''')\n",
    "\n",
    "result = rr.simulate(0, 40, 500) \n",
    "te.plotArray(result)"
   ]
  }
 ],
 "metadata": {
  "kernelspec": {
   "display_name": "Python 2",
   "language": "python",
   "name": "python2"
  },
  "language_info": {
   "codemirror_mode": {
    "name": "ipython",
    "version": 2
   },
   "file_extension": ".py",
   "mimetype": "text/x-python",
   "name": "python",
   "nbconvert_exporter": "python",
   "pygments_lexer": "ipython2",
   "version": "2.7.11"
  }
 },
 "nbformat": 4,
 "nbformat_minor": 0
}
