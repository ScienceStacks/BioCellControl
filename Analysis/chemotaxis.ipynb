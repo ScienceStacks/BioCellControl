{
 "cells": [
  {
   "cell_type": "code",
   "execution_count": 1,
   "metadata": {
    "collapsed": false
   },
   "outputs": [
    {
     "name": "stderr",
     "output_type": "stream",
     "text": [
      "/home/ubuntu/miniconda2/lib/python2.7/site-packages/tellurium/notebooks/__init__.py:16: UserWarning: Notebook tools are not imported, due to missing dependencies.\n",
      "  warnings.warn(\"Notebook tools are not imported, due to missing dependencies.\")\n"
     ]
    },
    {
     "data": {
      "image/png": "[encoded data removed]",
      "text/plain": [
       "<matplotlib.figure.Figure at 0x7fd6835dce90>"
      ]
     },
     "metadata": {},
     "output_type": "display_data"
    },
    {
     "data": {
      "text/plain": [
       "[<matplotlib.lines.Line2D at 0x7fd6b9d14490>]"
      ]
     },
     "execution_count": 1,
     "metadata": {},
     "output_type": "execute_result"
    }
   ],
   "source": [
    "%matplotlib inline\n",
    "import tellurium as te\n",
    "\n",
    "rr = te.loada('''\n",
    "    model example0\n",
    "      S1 -> S2; k1*S1\n",
    "      S1 = 10\n",
    "      S2 = 2\n",
    "      k1 = 0.3\n",
    "    end\n",
    "''')\n",
    "\n",
    "result = rr.simulate(0, 40, 500) \n",
    "te.plotArray(result)"
   ]
  },
  {
   "cell_type": "code",
   "execution_count": null,
   "metadata": {
    "collapsed": true
   },
   "outputs": [],
   "source": [
    "%matplotlib inline\n",
    "import tellurium as te\n",
    "\n",
    "rr = te.loada('''\n",
    "    model chemotaxis\n",
    "      T2 + R -> T2R; k1b*T2*R\n",
    "      T2R -> T2 + R; k1a*T2R\n",
    "      T2R -> T3 + R; k1c*T2R\n",
    "      T3 + Bp -> T2 + Bp; k_1*T3*Bp\n",
    "      T2 + L -> LT2; k5*T2*L\n",
    "      LT2 -> T2 + L; k_5*LT2\n",
    "      T2 -> T2p; k8*T2\n",
    "      T2p + B -> T2 + Bp; kb*T2p*B\n",
    "      T2p + Y -> T2 + Yp; ky*T2p*Y\n",
    "      Bp -> B; k_b*Bp\n",
    "      Yp + Z -> Y + Z; k_y*Yp*Z    \n",
    "      k1a = 0.17\n",
    "      T2 = 8*10e-6\n",
    "      R = 0.3*10e-6\n",
    "      B = 1.7*10e-6\n",
    "      Y = 20*10e-6\n",
    "      Z = 40*10e-6\n",
    "      T2R = 0\n",
    "      T3R = 0\n",
    "      L = 0\n",
    "      LT2 = 0\n",
    "      LT3 = 0\n",
    "      T2p = 0\n",
    "      Yp = 0\n",
    "      Bp = 0\n",
    "    end\n",
    "''')\n",
    "\n",
    "result = rr.simulate(0, 40, 500) \n",
    "te.plotArray(result)"
   ]
  }
 ],
 "metadata": {
  "kernelspec": {
   "display_name": "Python 2",
   "language": "python",
   "name": "python2"
  },
  "language_info": {
   "codemirror_mode": {
    "name": "ipython",
    "version": 2
   },
   "file_extension": ".py",
   "mimetype": "text/x-python",
   "name": "python",
   "nbconvert_exporter": "python",
   "pygments_lexer": "ipython2",
   "version": "2.7.11"
  }
 },
 "nbformat": 4,
 "nbformat_minor": 0
}
