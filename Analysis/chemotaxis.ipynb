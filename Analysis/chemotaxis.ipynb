{
 "cells": [
  {
   "cell_type": "markdown",
   "metadata": {},
   "source": [
    "Not getting Me for LT2p. Analyze where the T is going.\n",
    "Claim that Tp/T relates to Yp/Y.\n",
    "Analyze states of T: by p, by Me, by L. Show evolution of fractions over time."
   ]
  },
  {
   "cell_type": "code",
   "execution_count": 54,
   "metadata": {
    "collapsed": false,
    "scrolled": true
   },
   "outputs": [
    {
     "data": {
      "text/plain": [
       "[<matplotlib.lines.Line2D at 0x7fa14f268d90>]"
      ]
     },
     "execution_count": 54,
     "metadata": {},
     "output_type": "execute_result"
    },
    {
     "data": {
      "image/png": "[encoded data removed]",
      "text/plain": [
       "<matplotlib.figure.Figure at 0x7fa14f3b2ad0>"
      ]
     },
     "metadata": {},
     "output_type": "display_data"
    }
   ],
   "source": [
    "%matplotlib inline\n",
    "import matplotlib.pyplot as plt\n",
    "from chemotaxis_model import ChemotaxisModel\n",
    "\n",
    "model = ChemotaxisModel()\n",
    "model.appendToModel('''at (time > 200): L = 0.11e-3''')\n",
    "#model.appendToModel('''at (time > 100): k0 = 0.088e-6''')\n",
    "#model.appendToModel('''at (time > 200): k0 = 0, L=3e-6''')\n",
    "\n",
    "rr = model.startRoadRunner()\n",
    "\n",
    "\n",
    "#rr.timeCourseSelections = ['time', 'T2R', 'LT2', 'LT2p', 'Yp', 'T3R']\n",
    "\n",
    "#rr.timeCourseSelections = ['time', 'T2', 'T3', 'LT2', 'LT3', 'LT3p']\n",
    "Tp_ids = ['T2p', 'T3p', 'T4p', 'LT2p', 'LT3p', 'LT4p']\n",
    "T_ids = ['T2', 'T3', 'T4', 'LT2', 'LT3', 'LT4']\n",
    "T_ids.extend(Tp_ids)\n",
    "time_course_selection = ['time', 'Yp', 'Y']\n",
    "time_course_selection.extend(T_ids)\n",
    "rr.timeCourseSelections = time_course_selection\n",
    "end_time = 500\n",
    "result = rr.simulate(0, end_time, 20*end_time)\n",
    "Tp = sum([result[id] for id in Tp_ids])\n",
    "T = sum([result[id] for id in T_ids])\n",
    "frc_Yp = result['Yp']/(result['Y']+result['Yp'])\n",
    "plt.plot(result['time'], Tp/T)\n",
    "#rr.plot(result, xlim=[0, end_time])"
   ]
  },
  {
   "cell_type": "code",
   "execution_count": 58,
   "metadata": {
    "collapsed": false
   },
   "outputs": [
    {
     "data": {
      "text/plain": [
       "NamedArray"
      ]
     },
     "execution_count": 58,
     "metadata": {},
     "output_type": "execute_result"
    }
   ],
   "source": [
    "type(result)"
   ]
  },
  {
   "cell_type": "markdown",
   "metadata": {},
   "source": [
    "Expected to see an impulse response in response to the step input. But see a step response in Yp."
   ]
  },
  {
   "cell_type": "code",
   "execution_count": null,
   "metadata": {
    "collapsed": false
   },
   "outputs": [],
   "source": [
    "Ids = ['J11', 'J12', 'J3']\n",
    "{id: model.getReactionRateForId(id) for id in Ids}"
   ]
  },
  {
   "cell_type": "code",
   "execution_count": null,
   "metadata": {
    "collapsed": false
   },
   "outputs": [],
   "source": [
    "model = '''model reset()\n",
    "\n",
    "    S1 -> S2; k1*S1\n",
    "\n",
    "    E1: at (S2>9): S2=0, S1=10\n",
    "\n",
    "    S1 = 10\n",
    "    S2 = 0\n",
    "    k1 = 0.5\n",
    "  end\n",
    "'''"
   ]
  }
 ],
 "metadata": {
  "kernelspec": {
   "display_name": "Python 2",
   "language": "python",
   "name": "python2"
  },
  "language_info": {
   "codemirror_mode": {
    "name": "ipython",
    "version": 2
   },
   "file_extension": ".py",
   "mimetype": "text/x-python",
   "name": "python",
   "nbconvert_exporter": "python",
   "pygments_lexer": "ipython2",
   "version": "2.7.11"
  }
 },
 "nbformat": 4,
 "nbformat_minor": 0
}
