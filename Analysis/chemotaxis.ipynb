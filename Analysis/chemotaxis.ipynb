{
 "cells": [
  {
   "cell_type": "code",
   "execution_count": 173,
   "metadata": {
    "collapsed": false
   },
   "outputs": [
    {
     "data": {
      "image/png": "[encoded data removed]",
      "text/plain": [
       "<matplotlib.figure.Figure at 0x7fce97639f50>"
      ]
     },
     "metadata": {},
     "output_type": "display_data"
    },
    {
     "data": {
      "text/plain": [
       "<module 'matplotlib.pyplot' from '/home/ubuntu/miniconda2/lib/python2.7/site-packages/matplotlib/pyplot.pyc'>"
      ]
     },
     "execution_count": 173,
     "metadata": {},
     "output_type": "execute_result"
    }
   ],
   "source": [
    "%matplotlib inline\n",
    "from spiro_model import SpiroModel\n",
    "\n",
    "spiro = SpiroModel()\n",
    "rr = spiro.getRoadRunner()\n",
    "\n",
    "#rr.timeCourseSelections = ['time', 'T2R', 'LT2', 'LT2p', 'Yp', 'T3R']\n",
    "#rr.timeCourseSelections = ['time', 'LT2', 'LT3', 'LT2p', 'LT2R', 'LT4', 'Bp']\n",
    "rr.timeCourseSelections = ['time', 'T2p', 'T3p','Yp', 'Bp']\n",
    "end_time = 100\n",
    "result = rr.simulate(0, end_time, 10*end_time)\n",
    "rr.plot(result, xlim=[0, end_time])"
   ]
  },
  {
   "cell_type": "code",
   "execution_count": 116,
   "metadata": {
    "collapsed": false
   },
   "outputs": [
    {
     "data": {
      "text/plain": [
       "7000000.0"
      ]
     },
     "execution_count": 116,
     "metadata": {},
     "output_type": "execute_result"
    }
   ],
   "source": [
    "rr.k1b"
   ]
  },
  {
   "cell_type": "code",
   "execution_count": 172,
   "metadata": {
    "collapsed": false
   },
   "outputs": [
    {
     "data": {
      "text/plain": [
       "{'J10': 5.6375725946066097e-11}"
      ]
     },
     "execution_count": 172,
     "metadata": {},
     "output_type": "execute_result"
    }
   ],
   "source": [
    "def getReactionRate(id):\n",
    "  idx = rr.getReactionIds().index(id)\n",
    "  return rr.getReactionRates()[idx]\n",
    "\n",
    "ids = ['J10']\n",
    "{id: getReactionRate(id) for id in ids}"
   ]
  },
  {
   "cell_type": "code",
   "execution_count": 157,
   "metadata": {
    "collapsed": false
   },
   "outputs": [
    {
     "data": {
      "text/plain": [
       "{'Yp': 5.7896486169130341e-12}"
      ]
     },
     "execution_count": 157,
     "metadata": {},
     "output_type": "execute_result"
    }
   ],
   "source": [
    "def getSpeciesAmount(id):\n",
    "  idx = rr.getFloatingSpeciesIds().index(id)\n",
    "  return rr.getFloatingSpeciesConcentrations()[idx]\n",
    "\n",
    "ids = ['Yp']\n",
    "{id: getSpeciesAmount(id) for id in ids}"
   ]
  }
 ],
 "metadata": {
  "kernelspec": {
   "display_name": "Python 2",
   "language": "python",
   "name": "python2"
  },
  "language_info": {
   "codemirror_mode": {
    "name": "ipython",
    "version": 2
   },
   "file_extension": ".py",
   "mimetype": "text/x-python",
   "name": "python",
   "nbconvert_exporter": "python",
   "pygments_lexer": "ipython2",
   "version": "2.7.11"
  }
 },
 "nbformat": 4,
 "nbformat_minor": 0
}
