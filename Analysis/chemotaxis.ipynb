{
 "cells": [
  {
   "cell_type": "markdown",
   "metadata": {},
   "source": [
    "Not getting Me for LT2p. Analyze where the T is going.\n",
    "Claim that Tp/T relates to Yp/Y.\n",
    "Analyze states of T: by p, by Me, by L. Show evolution of fractions over time."
   ]
  },
  {
   "cell_type": "code",
   "execution_count": 6,
   "metadata": {
    "collapsed": false,
    "scrolled": true
   },
   "outputs": [
    {
     "data": {
      "text/plain": [
       "[<matplotlib.lines.Line2D at 0x7f5fbd2a0c10>,\n",
       " <matplotlib.lines.Line2D at 0x7f5fbd2a0e10>]"
      ]
     },
     "execution_count": 6,
     "metadata": {},
     "output_type": "execute_result"
    },
    {
     "data": {
      "image/png": "[encoded data removed]",
      "text/plain": [
       "<matplotlib.figure.Figure at 0x7f5fc91519d0>"
      ]
     },
     "metadata": {},
     "output_type": "display_data"
    }
   ],
   "source": [
    "%matplotlib inline\n",
    "import matplotlib.pyplot as plt\n",
    "from chemotaxis_model import ChemotaxisModel\n",
    "\n",
    "model = ChemotaxisModel()\n",
    "model.appendToModel('''at (time > 200): L = 0.11e-3''')\n",
    "#model.appendToModel('''at (time > 100): k0 = 0.088e-6''')\n",
    "#model.appendToModel('''at (time > 200): k0 = 0, L=3e-6''')\n",
    "\n",
    "model.initialize()\n",
    "result = model.run()\n",
    "time = result['time']\n",
    "ypfrc = model.getYpFraction()\n",
    "states = model.getReceptorStates()\n",
    "total = states.sumStates(lambda l,p,m: True)\n",
    "frLT = states.sumStates(lambda l,p,m: l)/total\n",
    "frLTp = states.sumStates(lambda l,p,m: l and p)/total\n",
    "plt.plot(time, ypfrc, time, frLTp)\n",
    "#rr.plot(result, xlim=[0, end_time])"
   ]
  },
  {
   "cell_type": "code",
   "execution_count": 2,
   "metadata": {
    "collapsed": false
   },
   "outputs": [
    {
     "data": {
      "text/plain": [
       "array([  0.00000000e+00,   0.00000000e+00,   0.00000000e+00, ...,\n",
       "         4.91580017e-06,   4.91451714e-06,   4.91323421e-06])"
      ]
     },
     "execution_count": 2,
     "metadata": {},
     "output_type": "execute_result"
    }
   ],
   "source": [
    "lt"
   ]
  },
  {
   "cell_type": "markdown",
   "metadata": {},
   "source": [
    "Expected to see an impulse response in response to the step input. But see a step response in Yp."
   ]
  },
  {
   "cell_type": "code",
   "execution_count": null,
   "metadata": {
    "collapsed": false
   },
   "outputs": [],
   "source": [
    "Ids = ['J11', 'J12', 'J3']\n",
    "{id: model.getReactionRateForId(id) for id in Ids}"
   ]
  }
 ],
 "metadata": {
  "kernelspec": {
   "display_name": "Python 2",
   "language": "python",
   "name": "python2"
  },
  "language_info": {
   "codemirror_mode": {
    "name": "ipython",
    "version": 2
   },
   "file_extension": ".py",
   "mimetype": "text/x-python",
   "name": "python",
   "nbconvert_exporter": "python",
   "pygments_lexer": "ipython2",
   "version": "2.7.11"
  }
 },
 "nbformat": 4,
 "nbformat_minor": 0
}
